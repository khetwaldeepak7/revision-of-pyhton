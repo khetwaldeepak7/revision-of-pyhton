{
 "cells": [
  {
   "cell_type": "code",
   "execution_count": 8,
   "metadata": {},
   "outputs": [
    {
     "name": "stdout",
     "output_type": "stream",
     "text": [
      "hello world\n",
      "this is the child\n"
     ]
    }
   ],
   "source": [
    "class A:\n",
    "    def __init__(self):\n",
    "        print(\"hello world\")\n",
    "class B (A):\n",
    "    def __init__(self):   # constructors will be called automatically\n",
    "        super().__init__()  # with the help of super keyword i will cal lthe parent class\n",
    "        print(\"this is the child\")\n",
    "b=B()"
   ]
  },
  {
   "cell_type": "code",
   "execution_count": 25,
   "metadata": {},
   "outputs": [
    {
     "name": "stdout",
     "output_type": "stream",
     "text": [
      "20\n",
      "10\n"
     ]
    }
   ],
   "source": [
    "# >> swaping of 2 number <<<<<<<<<<<\n",
    "a=10\n",
    "b=20\n",
    "a,b=b,a   # simply to swqp number in python\n",
    "print(a)\n",
    "print(b)"
   ]
  },
  {
   "cell_type": "code",
   "execution_count": 4,
   "metadata": {},
   "outputs": [
    {
     "name": "stdout",
     "output_type": "stream",
     "text": [
      "{'a': 'deepak', 'surname': 'khetwal'}\n",
      "dict_values(['deepak', 'khetwal'])\n"
     ]
    }
   ],
   "source": [
    "a={1:{'a':'deepak','surname':'khetwal'},2:{'age':23,12:4}}\n",
    "print(a[1])\n",
    "print(a[1].values())  # jaise pehel dictionary 1 ki key a and values deepak hai"
   ]
  },
  {
   "cell_type": "code",
   "execution_count": 31,
   "metadata": {},
   "outputs": [
    {
     "name": "stdout",
     "output_type": "stream",
     "text": [
      "{'age': 23, 12: 4}\n"
     ]
    }
   ],
   "source": [
    "print(a[2])   # by printing this i will get the values"
   ]
  },
  {
   "cell_type": "code",
   "execution_count": 37,
   "metadata": {},
   "outputs": [
    {
     "name": "stdout",
     "output_type": "stream",
     "text": [
      "dict_keys(['age', 12])\n"
     ]
    }
   ],
   "source": [
    "print(a[2].keys())   # by printing the keys we will get the keys of all"
   ]
  },
  {
   "cell_type": "code",
   "execution_count": 19,
   "metadata": {},
   "outputs": [
    {
     "name": "stdout",
     "output_type": "stream",
     "text": [
      "2\n",
      "{'child': 'nested'}\n",
      "nested\n",
      "['deepak', 'khetwal']\n"
     ]
    }
   ],
   "source": [
    "#            >>>>>>>>>>>>>>>>>>>>>.   NESTED DICTIONARY  <<<<<<<<<<<<<<<<<<<<<<<<<<<<<<<<<<<<<<<<<<<<<<\n",
    "\n",
    "\n",
    "D={1:{'a':'b',1:2},\n",
    "   'name':['deepak','khetwal'],\n",
    "   'insidedictionary':{'b':{'child':'nested'}\n",
    "                      }\n",
    "  }\n",
    "\n",
    "print(D[1])  # this is how it works d ke andar ka 1 dictionary ka value\n",
    "\n",
    "print(D['insidedictionary']['b'])  # this is how i called the dictionay inside dictionary\n",
    "\n",
    "print(D['insidedictionary']['b']['child'])   # acessing and taking the values of inside keys\n",
    "      \n",
    "print(D['name'])      # this is how i aces the values\n"
   ]
  },
  {
   "cell_type": "code",
   "execution_count": null,
   "metadata": {},
   "outputs": [],
   "source": []
  },
  {
   "cell_type": "code",
   "execution_count": 7,
   "metadata": {},
   "outputs": [
    {
     "name": "stdout",
     "output_type": "stream",
     "text": [
      "enter the value23\n",
      "enter the value4\n",
      "enter the value2\n",
      "enter the value3\n",
      "enter the value4\n",
      "enter the value300\n",
      "enter the valuedone\n",
      "300\n",
      "[23, 4, 2, 3, 4, 300]\n",
      "2\n"
     ]
    }
   ],
   "source": [
    "# finding the higesht and minimumvalues\n",
    "\n",
    "largest=0\n",
    "smallest=0\n",
    "a=[]\n",
    "while True:\n",
    "    inputValue=input(\"enter the value\")\n",
    "    \n",
    "    if inputValue == \"done\":\n",
    "        break\n",
    "    else:\n",
    "        try:\n",
    "            number=int(inputValue)\n",
    "        except:\n",
    "            print(\"NumberException\")\n",
    "        if number >largest:\n",
    "            \n",
    "            largest=number\n",
    "            a.append(largest)\n",
    "        else:\n",
    "            a.append(number)   # number will get append\n",
    "#             largest\n",
    "print(largest)\n",
    "\n",
    "print(a)\n",
    "smallest=a[0]\n",
    "for i in range(1,len(a)):\n",
    "    if(a[i]>smallest):\n",
    "        continue\n",
    "    else:\n",
    "        smallest=a[i]\n",
    "        \n",
    "                \n",
    "print(smallest)  \n",
    "       \n",
    "      "
   ]
  },
  {
   "cell_type": "code",
   "execution_count": 13,
   "metadata": {},
   "outputs": [
    {
     "name": "stdout",
     "output_type": "stream",
     "text": [
      "{1: ['deepak', 'khetwal'], 2: {'name': 'deepak'}, 3: {34: {3000: 400, 30: 45}}}\n"
     ]
    }
   ],
   "source": [
    "# check it some basics concept of dictionary\n",
    "\n",
    "aa={1:['deepak','khetwal'],2:{'name':'deepak'},3:{34:{3000:400,30:45}}}  # : colon ke left side ka keys n right side ka values always\n",
    "print(aa)"
   ]
  },
  {
   "cell_type": "code",
   "execution_count": 15,
   "metadata": {},
   "outputs": [
    {
     "name": "stdout",
     "output_type": "stream",
     "text": [
      "['deepak', 'khetwal']\n",
      "45\n",
      "deepak\n"
     ]
    }
   ],
   "source": [
    "print(aa[1])\n",
    "print(aa[3][34][30])   # 3 is a key 34 is another key and  30 is a key\n",
    "print(aa[2]['name'])"
   ]
  },
  {
   "cell_type": "code",
   "execution_count": 14,
   "metadata": {},
   "outputs": [
    {
     "name": "stdout",
     "output_type": "stream",
     "text": [
      "45\n"
     ]
    }
   ],
   "source": [
    "print(aa[3][34][30])   # nested dictionary"
   ]
  },
  {
   "cell_type": "code",
   "execution_count": 21,
   "metadata": {},
   "outputs": [
    {
     "name": "stdout",
     "output_type": "stream",
     "text": [
      "dict_keys([34])\n",
      "dict_values([{3000: 400, 30: 45}])\n"
     ]
    }
   ],
   "source": [
    "print(aa[3].keys())    # to fnd the values dictionary inside the dictionary..yrh 3 is the name of dictionay ,uske andar 34 is a key\n",
    "print(aa[3].values())    # and  (:) ke baad sabh values hi hai.keys consist of values"
   ]
  },
  {
   "cell_type": "code",
   "execution_count": 20,
   "metadata": {},
   "outputs": [
    {
     "name": "stdout",
     "output_type": "stream",
     "text": [
      "dict_keys([3000, 30])\n"
     ]
    }
   ],
   "source": [
    "print(aa[3][34].keys())"
   ]
  },
  {
   "cell_type": "code",
   "execution_count": 4,
   "metadata": {},
   "outputs": [
    {
     "name": "stdout",
     "output_type": "stream",
     "text": [
      "[[70 80]]\n"
     ]
    },
    {
     "data": {
      "text/plain": [
       "3"
      ]
     },
     "execution_count": 4,
     "metadata": {},
     "output_type": "execute_result"
    }
   ],
   "source": [
    "# importatnt concept of 3d  array,as we know one dimentional mean first brackets ke andar[] 2d mean second bracket ke andar value[[values]] first wll be empty and 2nds values\n",
    "# and for 3rd the third dimentional wil content the values,[[[value]]] ,it mean 1 and 2 brakcet wiill empty and 3 wil content the value\n",
    "from numpy import *\n",
    "a=array([[[12,2],[20,30]],[[30,40],[50,60]],[[70,80],[90,100]]])\n",
    "print(a[2,0:1])\n",
    "a.ndim"
   ]
  },
  {
   "cell_type": "code",
   "execution_count": 31,
   "metadata": {},
   "outputs": [
    {
     "name": "stdout",
     "output_type": "stream",
     "text": [
      "[[[20 30]]\n",
      "\n",
      " [[40 50]]]\n"
     ]
    },
    {
     "data": {
      "text/plain": [
       "array([[40, 50]])"
      ]
     },
     "execution_count": 31,
     "metadata": {},
     "output_type": "execute_result"
    }
   ],
   "source": [
    "import numpy\n",
    "value=numpy.array([[[20,30]],[[40,50]]])\n",
    "value.ndim\n",
    "print(value)\n",
    "value[1,0:2]"
   ]
  },
  {
   "cell_type": "code",
   "execution_count": 1,
   "metadata": {},
   "outputs": [],
   "source": [
    "from numpy import *\n",
    "a=array([\n",
    "    [                                 # this will be 9 dimetion\n",
    "        [12,3,4,],                 # yeh 0 dimention ka 0 wala hai\n",
    "        [12,3,4]                   # yeh 0 dimention ka 1 dimention hia\n",
    "    ],\n",
    "    [                                 # this will be 1 dimention\n",
    "        [23,4,5],\n",
    "        [10,20,30]\n",
    "    ]\n",
    "    \n",
    "])"
   ]
  },
  {
   "cell_type": "code",
   "execution_count": 2,
   "metadata": {},
   "outputs": [
    {
     "data": {
      "text/plain": [
       "array([23,  4])"
      ]
     },
     "execution_count": 2,
     "metadata": {},
     "output_type": "execute_result"
    }
   ],
   "source": [
    "a[1,0,0:2]     # so 1 dimention ke andar ka 0m dimention ka 0 to 1 takh ka index ka values"
   ]
  },
  {
   "cell_type": "code",
   "execution_count": 7,
   "metadata": {},
   "outputs": [],
   "source": [
    "import numpy\n",
    "a=numpy.array([\n",
    "    [\n",
    "        [10,20],\n",
    "        [30,40]\n",
    "    ],\n",
    "    [\n",
    "        [100,200],\n",
    "        [400,500]\n",
    "    ]\n",
    "])"
   ]
  },
  {
   "cell_type": "code",
   "execution_count": 10,
   "metadata": {},
   "outputs": [
    {
     "name": "stdout",
     "output_type": "stream",
     "text": [
      "[30]\n"
     ]
    }
   ],
   "source": [
    "print(a[0][1,0:1])  # this is how we select value in the numpy array"
   ]
  },
  {
   "cell_type": "code",
   "execution_count": null,
   "metadata": {},
   "outputs": [],
   "source": []
  },
  {
   "cell_type": "code",
   "execution_count": 1,
   "metadata": {},
   "outputs": [],
   "source": [
    "from numpy import *\n",
    "a=array([\n",
    "    [\n",
    "    [2,3],\n",
    "    [4,5]\n",
    "    ],\n",
    "    [\n",
    "        [30,40],\n",
    "        [50,60]\n",
    "    ]\n",
    "])"
   ]
  },
  {
   "cell_type": "code",
   "execution_count": 5,
   "metadata": {},
   "outputs": [],
   "source": [
    "from numpy import *\n",
    "a=array([\n",
    "    [\n",
    "        [10,20],\n",
    "        [30,40]\n",
    "    ],\n",
    "    [\n",
    "        [100,200],\n",
    "        [300,400]\n",
    "    ]\n",
    "])"
   ]
  },
  {
   "cell_type": "code",
   "execution_count": 30,
   "metadata": {},
   "outputs": [
    {
     "name": "stdout",
     "output_type": "stream",
     "text": [
      "36\n",
      "the missing number from the list is  5\n"
     ]
    }
   ],
   "source": [
    "# finding the missing number from the list\n",
    "def fa(arr,n):\n",
    "    total=int((n+1)*(n+2)/2)\n",
    "    print(total)\n",
    "    for i in arr:\n",
    "       # print(i) # in the arr variable all value is assign so ,in i  the value of list will be assign one by one\n",
    "        total=total-i\n",
    "    return total\n",
    "a=[1,2,3,4,6,7,8]\n",
    "#find the missing element\n",
    "missing=fa(a,len(a))\n",
    "print(\"the missing number from the list is \",missing)"
   ]
  },
  {
   "cell_type": "code",
   "execution_count": 18,
   "metadata": {},
   "outputs": [
    {
     "name": "stdout",
     "output_type": "stream",
     "text": [
      "{1: 1, 2: 3, 3: 4, 4: 3, 5: 3}\n"
     ]
    }
   ],
   "source": [
    "# this is used to count all the repeation of the element of the list\n",
    "a=[1,2,3,4,3,3,4,2,5,5,2,3,4,5]\n",
    "#repeation=set(a)  # first i will convert it into the set,so all the duplicate will get removes,now the loop will be run till this condition bec no repeation value is available\n",
    "empty={}  # direct make a empty set,in which return the value\n",
    "for i in a:\n",
    "    empty[i]=a.count(i)\n",
    "    #print(empty[i])  in this all value we get print,but at the end i had printed the  set which does not take duplicate ,so\n",
    "print(empty)"
   ]
  },
  {
   "cell_type": "code",
   "execution_count": 30,
   "metadata": {},
   "outputs": [
    {
     "name": "stdout",
     "output_type": "stream",
     "text": [
      "4\n"
     ]
    }
   ],
   "source": [
    "a=[1,2,3,5,6,7,8,9,10]\n",
    "n=len(a) # the value of n must be the length of the list,tuple, dictionary\n",
    "value=int((n+1)*(n+2)/2)\n",
    "for i in a:\n",
    "    #print(i)  i mai pura value aayega\n",
    "    value=value-i\n",
    "print(value)"
   ]
  },
  {
   "cell_type": "code",
   "execution_count": 31,
   "metadata": {},
   "outputs": [
    {
     "name": "stdout",
     "output_type": "stream",
     "text": [
      "{1: 1, 2: 2, 3: 4, 4: 2}\n"
     ]
    }
   ],
   "source": [
    "# count total number of repeated number in list\n",
    "a=[1,2,3,4,2,3,4,3,3]\n",
    "ab={}\n",
    "for i in a:\n",
    "    ab[i]=a.count(i)\n",
    "print(ab)"
   ]
  },
  {
   "cell_type": "code",
   "execution_count": 48,
   "metadata": {},
   "outputs": [],
   "source": [
    "# let see in the string how many time that paticular word is repeated\n",
    "a=\"deepak is a good boy.deepak is a smart boy.deepak love driving\"\n",
    "for i in a:\n",
    "    pass"
   ]
  },
  {
   "cell_type": "code",
   "execution_count": 2,
   "metadata": {},
   "outputs": [
    {
     "name": "stdout",
     "output_type": "stream",
     "text": [
      "<class 'array.array'>\n"
     ]
    }
   ],
   "source": [
    "import array  # but we know array cannot be multidimentional,so for that we wil use numpy\n",
    "a=array.array('i',[1,2,3,4,5])\n"
   ]
  },
  {
   "cell_type": "code",
   "execution_count": 10,
   "metadata": {},
   "outputs": [
    {
     "data": {
      "text/plain": [
       "3"
      ]
     },
     "execution_count": 10,
     "metadata": {},
     "output_type": "execute_result"
    }
   ],
   "source": [
    "from numpy import *\n",
    "a=array([[[1,2,3]]])\n",
    "a.ndim"
   ]
  },
  {
   "cell_type": "code",
   "execution_count": 5,
   "metadata": {},
   "outputs": [
    {
     "name": "stdout",
     "output_type": "stream",
     "text": [
      "array('i', [1, 2, 3, 4, 5])\n"
     ]
    }
   ],
   "source": [
    "from array import array\n",
    "a=array('i',[1,2,3,4,5])\n",
    "b=array(a.typecode,[b for b in a])\n",
    "b[1]=10\n",
    "print(a)"
   ]
  },
  {
   "cell_type": "code",
   "execution_count": 7,
   "metadata": {},
   "outputs": [],
   "source": [
    "b.reverse()"
   ]
  },
  {
   "cell_type": "code",
   "execution_count": 27,
   "metadata": {},
   "outputs": [
    {
     "name": "stdout",
     "output_type": "stream",
     "text": [
      "<class 'list'>\n"
     ]
    }
   ],
   "source": [
    "a=\"this is a string\"\n",
    "l=a.split(' ')  # when we split the string it wil convert it into the list,,.,string.split('bywhich')\n",
    "print(type(l))"
   ]
  },
  {
   "cell_type": "code",
   "execution_count": 29,
   "metadata": {},
   "outputs": [
    {
     "name": "stdout",
     "output_type": "stream",
     "text": [
      "['this', 'is', 'a', 'string']\n",
      "4\n"
     ]
    }
   ],
   "source": [
    "print(l)"
   ]
  },
  {
   "cell_type": "code",
   "execution_count": 5,
   "metadata": {},
   "outputs": [
    {
     "data": {
      "text/plain": [
       "40"
      ]
     },
     "execution_count": 5,
     "metadata": {},
     "output_type": "execute_result"
    }
   ],
   "source": [
    "cd={'a':{'b':10,20:40}}\n",
    "cd['a'][20]"
   ]
  },
  {
   "cell_type": "code",
   "execution_count": null,
   "metadata": {},
   "outputs": [],
   "source": []
  }
 ],
 "metadata": {
  "kernelspec": {
   "display_name": "Python 3",
   "language": "python",
   "name": "python3"
  },
  "language_info": {
   "codemirror_mode": {
    "name": "ipython",
    "version": 3
   },
   "file_extension": ".py",
   "mimetype": "text/x-python",
   "name": "python",
   "nbconvert_exporter": "python",
   "pygments_lexer": "ipython3",
   "version": "3.8.5"
  }
 },
 "nbformat": 4,
 "nbformat_minor": 4
}
