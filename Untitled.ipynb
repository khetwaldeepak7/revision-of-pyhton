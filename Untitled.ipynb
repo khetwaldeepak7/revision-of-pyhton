{
 "cells": [
  {
   "cell_type": "code",
   "execution_count": 153,
   "metadata": {},
   "outputs": [
    {
     "name": "stdout",
     "output_type": "stream",
     "text": [
      "enter the number2\n",
      "enter the number3\n",
      "enter the number43\n",
      "enter the number23\n",
      "enter the number43\n",
      "enter the number23\n",
      "enter the number434\n",
      "enter the numberdone\n",
      "Maximum is 434\n",
      "Minimum is 23\n"
     ]
    }
   ],
   "source": [
    "largest = None\n",
    "smallest =None\n",
    "a=[]\n",
    "while True:\n",
    "    num=input(\"enter the number\")\n",
    "    if(num==\"done\"):\n",
    "        break\n",
    "    try:\n",
    "        number=int(num)\n",
    "    except:\n",
    "        print(\"Invalid input\")\n",
    "        continue\n",
    "    if largest is None:# is as treat as ==\n",
    "        largest=number\n",
    "    elif(number >largest):\n",
    "           largest=number\n",
    "    elif smallest is None:\n",
    "        smallest=number\n",
    "    elif(number<smallest):\n",
    "        smallest=number\n",
    "print(\"Maximum is\",largest)\n",
    "print(\"Minimum is\",smallest)\n",
    "\n"
   ]
  },
  {
   "cell_type": "code",
   "execution_count": 16,
   "metadata": {},
   "outputs": [
    {
     "name": "stdout",
     "output_type": "stream",
     "text": [
      "3\n",
      "the value is present  and the index of 3 value is 2\n"
     ]
    }
   ],
   "source": [
    "#  by using this i will get the index number of value ,and i will check whether value is present or not in the list\n",
    "\n",
    "a=[1,2,3,4,5,'deepak',6]\n",
    "b=int(input())\n",
    "count=0\n",
    "for i in range(len(a)):\n",
    "    if b==a[i]:\n",
    "        print(f\"the value is present  and the index of {a[i]} value is {count}\")\n",
    "    else:\n",
    "        count=count+1\n"
   ]
  },
  {
   "cell_type": "code",
   "execution_count": 11,
   "metadata": {},
   "outputs": [
    {
     "name": "stdout",
     "output_type": "stream",
     "text": [
      "[12, 3, 2, 4, 32, 3]\n",
      " the maxim value from the above resultis 32\n"
     ]
    }
   ],
   "source": [
    "a=[12,3,2,4,32,3]\n",
    "def max(value):\n",
    "    print(value)\n",
    "    maximum=value[0]\n",
    "    for i in range(1,len(value)):\n",
    "        if(value[i]>maximum):\n",
    "            maximum=value[i]\n",
    "        #else:\n",
    "         #   pass\n",
    "    return maximum\n",
    "result=max(a)\n",
    "print(f\" the maxim value from the above resultis {result}\")"
   ]
  },
  {
   "cell_type": "code",
   "execution_count": 20,
   "metadata": {},
   "outputs": [
    {
     "name": "stdout",
     "output_type": "stream",
     "text": [
      "1\n"
     ]
    }
   ],
   "source": [
    "z,b,c=1,\"deepak\",20.4   # this is how i can declare multiple value at single line\n",
    "print(z)"
   ]
  },
  {
   "cell_type": "code",
   "execution_count": 43,
   "metadata": {},
   "outputs": [
    {
     "name": "stdout",
     "output_type": "stream",
     "text": [
      "50\n"
     ]
    }
   ],
   "source": [
    "class A:\n",
    "    def m(self,a,b):\n",
    "        return a+b\n",
    "a=A()\n",
    "result=A.m(a,20,30)   # this is how it works,class A ke andar m methd hai na,so class name.methodname(instance of class,value1,value2)\n",
    "print(result)"
   ]
  },
  {
   "cell_type": "code",
   "execution_count": 96,
   "metadata": {},
   "outputs": [],
   "source": [
    "# two check which element is missing from both\n",
    "\n",
    "\n",
    "    "
   ]
  },
  {
   "cell_type": "code",
   "execution_count": 83,
   "metadata": {},
   "outputs": [
    {
     "data": {
      "text/plain": [
       "'dea'"
      ]
     },
     "execution_count": 83,
     "metadata": {},
     "output_type": "execute_result"
    }
   ],
   "source": [
    "a=\"deepak\"\n",
    "a[0:len(a):2]"
   ]
  },
  {
   "cell_type": "code",
   "execution_count": 90,
   "metadata": {},
   "outputs": [
    {
     "name": "stdout",
     "output_type": "stream",
     "text": [
      "[10, 20, 30]\n",
      "[20, 30, 40]\n"
     ]
    }
   ],
   "source": [
    "print(k)\n",
    "print(c)"
   ]
  },
  {
   "cell_type": "code",
   "execution_count": 85,
   "metadata": {},
   "outputs": [
    {
     "data": {
      "text/plain": [
       "'ea'"
      ]
     },
     "execution_count": 85,
     "metadata": {},
     "output_type": "execute_result"
    }
   ],
   "source": [
    "a=\"deepak\"\n",
    "a[-4:-1:2]    # in the reverse form ,as we know,-4 sey start hoga,-1 takh jayega and the difference will be of 2"
   ]
  },
  {
   "cell_type": "code",
   "execution_count": 95,
   "metadata": {},
   "outputs": [
    {
     "name": "stdout",
     "output_type": "stream",
     "text": [
      "[10, 30, 50]\n"
     ]
    }
   ],
   "source": [
    "def findElements(lst1, lst2): \n",
    "    return [lst1[i] for i in lst2] \n",
    "              \n",
    "# Driver code \n",
    "lst1 = [10, 20, 30, 40, 50] \n",
    "lst2 = [0, 2, 4] \n",
    "print(findElements(lst1, lst2))"
   ]
  },
  {
   "cell_type": "code",
   "execution_count": 18,
   "metadata": {},
   "outputs": [
    {
     "name": "stdout",
     "output_type": "stream",
     "text": [
      "[10, 20, 30] [40, 20]\n",
      "common value in both is : [20]\n"
     ]
    }
   ],
   "source": [
    "def information(value1,value2):\n",
    "    new=[]\n",
    "    print(value1,value2)\n",
    "    for i in range(len(value1)):\n",
    "        for j in range(len(value2)):\n",
    "            if(value1[i]==value2[j]):\n",
    "                new.append(value1[j])\n",
    "    \n",
    "    print(\"common value in both is :\" ,new)       \n",
    "\n",
    "a=[10,20,30]\n",
    "b=[40,20]\n",
    "information(a,b)\n",
    "\n"
   ]
  },
  {
   "cell_type": "code",
   "execution_count": 23,
   "metadata": {},
   "outputs": [],
   "source": [
    "arr=[1,2,3,4,'depak']\n",
    "arr2=[2,3,4,5,67,6]\n",
    "newlist=[arr,arr2]  # this is used to make a bigger list inside which this both list wil be ppresent"
   ]
  },
  {
   "cell_type": "code",
   "execution_count": 24,
   "metadata": {},
   "outputs": [
    {
     "name": "stdout",
     "output_type": "stream",
     "text": [
      "[[1, 2, 3, 4, 'depak'], [2, 3, 4, 5, 67, 6]]\n"
     ]
    }
   ],
   "source": [
    "print(newlist)"
   ]
  },
  {
   "cell_type": "code",
   "execution_count": 29,
   "metadata": {},
   "outputs": [
    {
     "name": "stdout",
     "output_type": "stream",
     "text": [
      "[1, 2, 3, 4, 'depak', 2, 3, 4, 5, 67, 6]\n"
     ]
    },
    {
     "data": {
      "text/plain": [
       "[6, 67, 5, 4, 3, 2, 'depak', 4, 3, 2, 1]"
      ]
     },
     "execution_count": 29,
     "metadata": {},
     "output_type": "execute_result"
    }
   ],
   "source": [
    "# and to concatinate two list i wil use + for concatinating\n",
    "con=arr+arr2\n",
    "print(con)\n",
    "con[::-1]   # by doing this i wil get the reverse of list"
   ]
  },
  {
   "cell_type": "code",
   "execution_count": 34,
   "metadata": {},
   "outputs": [
    {
     "data": {
      "text/plain": [
       "(2, 3, 4, 5, 45, 65)"
      ]
     },
     "execution_count": 34,
     "metadata": {},
     "output_type": "execute_result"
    }
   ],
   "source": [
    "a=(2,3,4,2,3,4,5,3,4,45,65)\n",
    "v=dict.fromkeys(a)\n",
    "tuple(v)"
   ]
  },
  {
   "cell_type": "code",
   "execution_count": 41,
   "metadata": {},
   "outputs": [
    {
     "data": {
      "text/plain": [
       "['D', 'E', 'P', 'k']"
      ]
     },
     "execution_count": 41,
     "metadata": {},
     "output_type": "execute_result"
    }
   ],
   "source": [
    "a=\"DEPk\"\n",
    "list(a)"
   ]
  },
  {
   "cell_type": "code",
   "execution_count": 42,
   "metadata": {},
   "outputs": [],
   "source": [
    "b=[22,222,'deepak',\"defreg\",222,\"dede2222\",\"22222\"]\n",
    "new=list(map(str,b))  # map sey used karunga,map take 2 argument,1 fun,2 value\n"
   ]
  },
  {
   "cell_type": "code",
   "execution_count": 44,
   "metadata": {},
   "outputs": [],
   "source": [
    "# join marunga,join karunga jidhar blank space hai ussee join karo list ko"
   ]
  },
  {
   "cell_type": "code",
   "execution_count": 47,
   "metadata": {},
   "outputs": [
    {
     "data": {
      "text/plain": [
       "17"
      ]
     },
     "execution_count": 47,
     "metadata": {},
     "output_type": "execute_result"
    }
   ],
   "source": [
    "m=''.join(new)\n",
    "m.count('2')"
   ]
  },
  {
   "cell_type": "code",
   "execution_count": 50,
   "metadata": {},
   "outputs": [
    {
     "data": {
      "text/plain": [
       "['depak', 'cong', 'khetwal']"
      ]
     },
     "execution_count": 50,
     "metadata": {},
     "output_type": "execute_result"
    }
   ],
   "source": [
    "a=[\"depak\",\"cong\",\"khetwal\"]\n",
    "a[-3::1]    # minus sey lenge toh pehle lunga,minue mai -1 sey index chlu hota hai,from right to left"
   ]
  },
  {
   "cell_type": "code",
   "execution_count": 56,
   "metadata": {},
   "outputs": [
    {
     "name": "stdout",
     "output_type": "stream",
     "text": [
      "present\n",
      "1\n"
     ]
    }
   ],
   "source": [
    "for i in a:\n",
    "    if \"cong\" in i:\n",
    "        print(\"present\")\n",
    "        print(a.index(\"cong\"))\n",
    "    "
   ]
  },
  {
   "cell_type": "code",
   "execution_count": 72,
   "metadata": {},
   "outputs": [
    {
     "name": "stdout",
     "output_type": "stream",
     "text": [
      "array('i', [1, 2, 3, 4, 5, 7, 7])\n"
     ]
    },
    {
     "data": {
      "text/plain": [
       "118102688"
      ]
     },
     "execution_count": 72,
     "metadata": {},
     "output_type": "execute_result"
    }
   ],
   "source": [
    "from array import *\n",
    "a=array('i',[1,2,3,4,5,7,7])\n",
    "b=array(a.typecode,[b for b in a])\n",
    "print(b)\n",
    "id(a)"
   ]
  },
  {
   "cell_type": "code",
   "execution_count": 76,
   "metadata": {},
   "outputs": [
    {
     "name": "stdout",
     "output_type": "stream",
     "text": [
      "array('i', [1, 2, 3, 4, 5, 7, 7])\n"
     ]
    }
   ],
   "source": [
    "b[2]=30\n",
    "print(a)"
   ]
  },
  {
   "cell_type": "code",
   "execution_count": 77,
   "metadata": {},
   "outputs": [
    {
     "name": "stdout",
     "output_type": "stream",
     "text": [
      "array('i', [1, 2, 30, 4, 5, 7, 7])\n"
     ]
    }
   ],
   "source": [
    "print(b)"
   ]
  },
  {
   "cell_type": "code",
   "execution_count": 85,
   "metadata": {},
   "outputs": [
    {
     "data": {
      "text/plain": [
       "['', 'hdh', 'fef']"
      ]
     },
     "execution_count": 85,
     "metadata": {},
     "output_type": "execute_result"
    }
   ],
   "source": [
    "a=\" hdh fef\"\n",
    "a.split(' ')   # using of split in a string"
   ]
  },
  {
   "cell_type": "code",
   "execution_count": 98,
   "metadata": {},
   "outputs": [
    {
     "data": {
      "text/plain": [
       "0"
      ]
     },
     "execution_count": 98,
     "metadata": {},
     "output_type": "execute_result"
    }
   ],
   "source": [
    "a=(10,20,30,10,20)\n",
    "a.index(10)"
   ]
  },
  {
   "cell_type": "code",
   "execution_count": null,
   "metadata": {},
   "outputs": [],
   "source": [
    "# >>>>>>>>>>>>>>>>>>>>>>..   SET EXAMPLE <<<<<<<<<<<<<<<<<<<<<<<<<<<<<<<<<<<<<<<<<<<<"
   ]
  },
  {
   "cell_type": "code",
   "execution_count": 158,
   "metadata": {},
   "outputs": [
    {
     "name": "stdout",
     "output_type": "stream",
     "text": [
      "{1, 2, 3, 5, 6}\n",
      "{1, 3, 4, 101, 5, 10, 21}\n",
      "{1, 2, 3, 4, 5, 6, 101, 10, 21}\n"
     ]
    }
   ],
   "source": [
    "a={1,2,3,5,6,3}\n",
    "print(a)\n",
    "b={1,3,5,4,101,10,21}\n",
    "print(b)\n",
    "newset=a.union(b) # it will take only one element,and create new set from both set .it will not take the repeated number\n",
    "print(newset)"
   ]
  },
  {
   "cell_type": "code",
   "execution_count": 159,
   "metadata": {},
   "outputs": [
    {
     "data": {
      "text/plain": [
       "{2, 6}"
      ]
     },
     "execution_count": 159,
     "metadata": {},
     "output_type": "execute_result"
    }
   ],
   "source": [
    "a={1,2,3,5,6,3}\n",
    "b={1,3,5,4,101,10,21}\n",
    "a.difference(b)  # it will check ki a mai sey kon kon sey element b mai nhi hai,.jaise a ka 1 hai b mai, and a ka 2 nhi hai,so 2 will get print"
   ]
  },
  {
   "cell_type": "code",
   "execution_count": 160,
   "metadata": {},
   "outputs": [
    {
     "name": "stdout",
     "output_type": "stream",
     "text": [
      "{'banana', 'google', 'microsoft', 'cherry'}\n"
     ]
    }
   ],
   "source": [
    "x = {\"apple\", \"banana\", \"cherry\"}\n",
    "y = {\"google\", \"microsoft\", \"apple\"}   # using symmetric differnc it will give only unique element from both set\n",
    "\n",
    "z = x.symmetric_difference(y) \n",
    "\n",
    "print(z)"
   ]
  },
  {
   "cell_type": "code",
   "execution_count": null,
   "metadata": {},
   "outputs": [],
   "source": [
    "# >>>>>>>>>>>>>>>>>>>>>>>>>>>   Dictionary <<<<<<<<<<<<<<<<<<<<<<<<<<<<<<<<<<<<<<<<<<<<<<<<<<<"
   ]
  },
  {
   "cell_type": "code",
   "execution_count": 110,
   "metadata": {},
   "outputs": [],
   "source": [
    "dictionary={\"name\":\"deepak\",\n",
    "           \"Surname\":\"khetwal\",\n",
    "           \"age\":23}"
   ]
  },
  {
   "cell_type": "code",
   "execution_count": 115,
   "metadata": {},
   "outputs": [
    {
     "name": "stdout",
     "output_type": "stream",
     "text": [
      "{'name': 'deepak', 'Surname': 'khetwal', 'age': 23}\n",
      "name deepak\n",
      "Surname khetwal\n",
      "age 23\n"
     ]
    }
   ],
   "source": [
    "print(dictionary)\n",
    "for i in dictionary:   # by using this it will give the key of dictionary\n",
    "    print(i)"
   ]
  },
  {
   "cell_type": "code",
   "execution_count": 116,
   "metadata": {},
   "outputs": [
    {
     "name": "stdout",
     "output_type": "stream",
     "text": [
      "deepak\n",
      "khetwal\n",
      "23\n"
     ]
    }
   ],
   "source": [
    "# if i want only to print the values of set than i wil used\n",
    "for i in dictionary.values():   # one way\n",
    "    print(i)"
   ]
  },
  {
   "cell_type": "code",
   "execution_count": 117,
   "metadata": {},
   "outputs": [
    {
     "name": "stdout",
     "output_type": "stream",
     "text": [
      "deepak\n",
      "khetwal\n",
      "23\n"
     ]
    }
   ],
   "source": [
    "# 2nd way\n",
    "for i in dictionary:  # as we know in the i it will tke key,so by the below condition i can take it\n",
    "    print(dictionary[i])"
   ]
  },
  {
   "cell_type": "code",
   "execution_count": 125,
   "metadata": {},
   "outputs": [
    {
     "name": "stdout",
     "output_type": "stream",
     "text": [
      "1\n",
      "2\n",
      "3\n",
      "4\n",
      "r\n"
     ]
    }
   ],
   "source": [
    "a=[1,2,3,4,'r']\n",
    "for i in a:\n",
    "    print(i)"
   ]
  },
  {
   "cell_type": "code",
   "execution_count": 128,
   "metadata": {},
   "outputs": [
    {
     "name": "stdout",
     "output_type": "stream",
     "text": [
      "{1: 'deepak', 'khetwal': 2}\n"
     ]
    }
   ],
   "source": [
    "di={1:'deepak','khetwal':2}\n",
    "print(di)\n",
    "di2=di"
   ]
  },
  {
   "cell_type": "code",
   "execution_count": 129,
   "metadata": {},
   "outputs": [
    {
     "name": "stdout",
     "output_type": "stream",
     "text": [
      "{1: 'deepak', 'khetwal': 2}\n"
     ]
    }
   ],
   "source": [
    "print(di2)"
   ]
  },
  {
   "cell_type": "code",
   "execution_count": 130,
   "metadata": {},
   "outputs": [],
   "source": [
    "di[1]='hello'  # as i make change in it ,but it get refect to all,so to avoid this i will be using the copy method"
   ]
  },
  {
   "cell_type": "code",
   "execution_count": 131,
   "metadata": {},
   "outputs": [
    {
     "name": "stdout",
     "output_type": "stream",
     "text": [
      "{1: 'hello', 'khetwal': 2}\n"
     ]
    }
   ],
   "source": [
    "print(di2)"
   ]
  },
  {
   "cell_type": "code",
   "execution_count": 134,
   "metadata": {},
   "outputs": [],
   "source": [
    "dinew=di.copy()   # di ko copy kareyga dinew, and both wil be independt"
   ]
  },
  {
   "cell_type": "code",
   "execution_count": 139,
   "metadata": {},
   "outputs": [
    {
     "name": "stdout",
     "output_type": "stream",
     "text": [
      "{1: 'new change', 'khetwal': 2}\n",
      "{1: 'new change', 'khetwal': 2}\n",
      "{1: 'hello', 'khetwal': 2}\n"
     ]
    }
   ],
   "source": [
    "print(dinew)\n",
    "dinew[1]='new change'\n",
    "print(dinew)    # look only this get chnge,not other get reflected\n",
    "print(di)   # the value of di not get chage"
   ]
  },
  {
   "cell_type": "code",
   "execution_count": 156,
   "metadata": {},
   "outputs": [
    {
     "ename": "AttributeError",
     "evalue": "'tuple' object has no attribute 'copy'",
     "output_type": "error",
     "traceback": [
      "\u001b[1;31m---------------------------------------------------------------------------\u001b[0m",
      "\u001b[1;31mAttributeError\u001b[0m                            Traceback (most recent call last)",
      "\u001b[1;32m<ipython-input-156-f1b4cf5f260d>\u001b[0m in \u001b[0;36m<module>\u001b[1;34m\u001b[0m\n\u001b[0;32m      1\u001b[0m \u001b[0ma\u001b[0m\u001b[1;33m=\u001b[0m\u001b[1;33m(\u001b[0m\u001b[1;36m1\u001b[0m\u001b[1;33m,\u001b[0m\u001b[1;36m2\u001b[0m\u001b[1;33m,\u001b[0m\u001b[1;36m3\u001b[0m\u001b[1;33m,\u001b[0m\u001b[1;36m4\u001b[0m\u001b[1;33m,\u001b[0m\u001b[1;36m5\u001b[0m\u001b[1;33m)\u001b[0m\u001b[1;33m\u001b[0m\u001b[1;33m\u001b[0m\u001b[0m\n\u001b[1;32m----> 2\u001b[1;33m \u001b[0mb\u001b[0m\u001b[1;33m=\u001b[0m\u001b[0ma\u001b[0m\u001b[1;33m.\u001b[0m\u001b[0mcopy\u001b[0m\u001b[1;33m(\u001b[0m\u001b[1;33m)\u001b[0m\u001b[1;33m\u001b[0m\u001b[1;33m\u001b[0m\u001b[0m\n\u001b[0m",
      "\u001b[1;31mAttributeError\u001b[0m: 'tuple' object has no attribute 'copy'"
     ]
    }
   ],
   "source": [
    "a=(1,2,3,4,5)\n",
    "b=a"
   ]
  },
  {
   "cell_type": "code",
   "execution_count": 21,
   "metadata": {},
   "outputs": [
    {
     "name": "stdout",
     "output_type": "stream",
     "text": [
      "khetwal\n",
      "[10, 20, 30]\n"
     ]
    }
   ],
   "source": [
    "a={1:2,2:{'name':{'deepak':'khetwal'}},3:[10,20,30]}\n",
    "print(a[2]['name']['deepak'])\n",
    "print(a[3])"
   ]
  },
  {
   "cell_type": "code",
   "execution_count": 26,
   "metadata": {},
   "outputs": [
    {
     "name": "stdout",
     "output_type": "stream",
     "text": [
      "kapeed\n",
      "array('i', [4, 3, 2, 1])\n"
     ]
    }
   ],
   "source": [
    "from array import *\n",
    "a=\"deepak\"\n",
    "print(a[::-1])\n",
    "a=array('i',[1,2,3,4])  # as i know reverse is a method of array and list\n",
    "a.reverse()\n",
    "print(a)"
   ]
  },
  {
   "cell_type": "code",
   "execution_count": 2,
   "metadata": {},
   "outputs": [
    {
     "name": "stdout",
     "output_type": "stream",
     "text": [
      "enter the length3\n",
      "12\n",
      "2\n",
      "3\n",
      "array('i', [12, 2, 3])\n"
     ]
    }
   ],
   "source": [
    "\n",
    "# add element in the array \n",
    "\n",
    "from array import *\n",
    "arr=array('i',[])\n",
    "n=int(input(\"enter the length\"))\n",
    "for i in range(n):\n",
    "    y=int(input())\n",
    "    arr.append(y)\n",
    "print(arr)"
   ]
  },
  {
   "cell_type": "code",
   "execution_count": null,
   "metadata": {},
   "outputs": [],
   "source": []
  }
 ],
 "metadata": {
  "kernelspec": {
   "display_name": "Python 3",
   "language": "python",
   "name": "python3"
  },
  "language_info": {
   "codemirror_mode": {
    "name": "ipython",
    "version": 3
   },
   "file_extension": ".py",
   "mimetype": "text/x-python",
   "name": "python",
   "nbconvert_exporter": "python",
   "pygments_lexer": "ipython3",
   "version": "3.8.5"
  }
 },
 "nbformat": 4,
 "nbformat_minor": 4
}
