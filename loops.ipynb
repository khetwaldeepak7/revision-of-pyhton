{
 "cells": [
  {
   "cell_type": "code",
   "execution_count": 1,
   "metadata": {},
   "outputs": [
    {
     "name": "stdout",
     "output_type": "stream",
     "text": [
      "d\n",
      "e\n",
      "e\n",
      "p\n",
      "a\n",
      "k\n"
     ]
    }
   ],
   "source": [
    "a=\"deepak\"\n",
    "for x in a:\n",
    "    print(x)"
   ]
  },
  {
   "cell_type": "code",
   "execution_count": 2,
   "metadata": {},
   "outputs": [
    {
     "name": "stdout",
     "output_type": "stream",
     "text": [
      "d\n",
      "e\n",
      "e\n",
      "p\n",
      "a\n",
      "k\n"
     ]
    }
   ],
   "source": [
    "for i in \"deepak\":    #in for loop this is how it take  one one value\n",
    "    print(i)"
   ]
  },
  {
   "cell_type": "code",
   "execution_count": 7,
   "metadata": {},
   "outputs": [
    {
     "name": "stdout",
     "output_type": "stream",
     "text": [
      "['11111', 'dee111', '11']\n"
     ]
    },
    {
     "data": {
      "text/plain": [
       "10"
      ]
     },
     "execution_count": 7,
     "metadata": {},
     "output_type": "execute_result"
    }
   ],
   "source": [
    "a=[11111,'dee111',11]\n",
    "con=list(map(str,a))   # simple method to count the \n",
    "print(con)\n",
    "co=''.join(con)\n",
    "co.count('1')"
   ]
  },
  {
   "cell_type": "code",
   "execution_count": 9,
   "metadata": {},
   "outputs": [
    {
     "data": {
      "text/plain": [
       "'dee'"
      ]
     },
     "execution_count": 9,
     "metadata": {},
     "output_type": "execute_result"
    }
   ],
   "source": [
    "a=\"  dee  \"\n",
    "a.strip()  # it will remove strsting n ening blank spaACe"
   ]
  },
  {
   "cell_type": "code",
   "execution_count": 3,
   "metadata": {},
   "outputs": [
    {
     "name": "stdout",
     "output_type": "stream",
     "text": [
      "['th', 's ', 's a n', 'ce program']\n"
     ]
    },
    {
     "data": {
      "text/plain": [
       "4"
      ]
     },
     "execution_count": 3,
     "metadata": {},
     "output_type": "execute_result"
    }
   ],
   "source": [
    "a= \"this is a nice program\"\n",
    "k=a.split('i')  # split karna matlab lag karna,and split by 'i'  mean i sey alag alga karna\n",
    "print(k)  # i wil get remove and all string wil converted into the list\n",
    "len(k)"
   ]
  },
  {
   "cell_type": "code",
   "execution_count": 13,
   "metadata": {},
   "outputs": [
    {
     "name": "stdout",
     "output_type": "stream",
     "text": [
      "hi\n",
      "duck typing\n"
     ]
    }
   ],
   "source": [
    "class A:\n",
    "    def m(self):\n",
    "        print(\"hi\")\n",
    "class B:\n",
    "    def m2(self,insatnace):\n",
    "        insatnace.m()\n",
    "        print(\"duck typing\")\n",
    "a=A()\n",
    "b=B()\n",
    "b.m2(a)"
   ]
  },
  {
   "cell_type": "code",
   "execution_count": 6,
   "metadata": {},
   "outputs": [
    {
     "name": "stdout",
     "output_type": "stream",
     "text": [
      "hi\n",
      "hi\n",
      "logic\n"
     ]
    }
   ],
   "source": [
    "class Parent:\n",
    "    def __init__(self):\n",
    "        print(\"hi\")\n",
    "    def m(self):\n",
    "        print(\"hiiii\")\n",
    "class Child:\n",
    "    def __init__(self):\n",
    "        print(\"bye\")\n",
    "class H (Parent,Child):  # multiple inheritance   ... so jo chiz left mai hoga it will vbe have more priority\n",
    "    def chi(self):\n",
    "        super().__init__()\n",
    "        \n",
    "        print(\"logic\")\n",
    "h=H()\n",
    "h.chi()"
   ]
  },
  {
   "cell_type": "code",
   "execution_count": 1,
   "metadata": {},
   "outputs": [
    {
     "name": "stdout",
     "output_type": "stream",
     "text": [
      "2020-09-07 12:47:21.191141\n"
     ]
    }
   ],
   "source": [
    "from datetime import *  # to get the date time \n",
    "print(datetime.now())"
   ]
  },
  {
   "cell_type": "code",
   "execution_count": 5,
   "metadata": {},
   "outputs": [
    {
     "name": "stdout",
     "output_type": "stream",
     "text": [
      "['22', '22', '2', 'deepak222']\n"
     ]
    }
   ],
   "source": [
    "a=[22,22,2,'deepak222']\n",
    "v=list(map(str,a))\n",
    "print(v)\n",
    "check=''.join(v)"
   ]
  },
  {
   "cell_type": "code",
   "execution_count": 6,
   "metadata": {},
   "outputs": [
    {
     "data": {
      "text/plain": [
       "8"
      ]
     },
     "execution_count": 6,
     "metadata": {},
     "output_type": "execute_result"
    }
   ],
   "source": [
    "check.count('2')"
   ]
  },
  {
   "cell_type": "code",
   "execution_count": null,
   "metadata": {},
   "outputs": [],
   "source": []
  }
 ],
 "metadata": {
  "kernelspec": {
   "display_name": "Python 3",
   "language": "python",
   "name": "python3"
  },
  "language_info": {
   "codemirror_mode": {
    "name": "ipython",
    "version": 3
   },
   "file_extension": ".py",
   "mimetype": "text/x-python",
   "name": "python",
   "nbconvert_exporter": "python",
   "pygments_lexer": "ipython3",
   "version": "3.8.5"
  }
 },
 "nbformat": 4,
 "nbformat_minor": 4
}
