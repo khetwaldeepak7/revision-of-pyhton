{
 "cells": [
  {
   "cell_type": "code",
   "execution_count": 2,
   "metadata": {},
   "outputs": [
    {
     "name": "stdout",
     "output_type": "stream",
     "text": [
      "the number which are divisible : 105 0\n",
      "the number which are divisible : 210 1\n",
      "the number which are divisible : 315 2\n",
      "the number which are divisible : 420 3\n",
      "the number which are divisible : 525 4\n",
      "the number which are divisible : 630 5\n",
      "the number which are divisible : 735 6\n",
      "the number which are divisible : 840 7\n",
      "the number which are divisible : 945 8\n",
      "the number which are divisible : 1050 9\n"
     ]
    }
   ],
   "source": [
    "# print the first 10 number which are divisible by 3,5 and 7\n",
    "count=0\n",
    "for i in range(1,10000):\n",
    "    if(i %3==0 and i%5==0 and i%7==0):\n",
    "        print(f\"the number which are divisible : {i}\",end=\" \" )\n",
    "        print(count)\n",
    "        count=count+1\n",
    "        if(count==10):\n",
    "               break\n",
    "\n",
    "# break and continue is used inside the loop,as here the condition is inside the for looop so when the condition get true the value will execute"
   ]
  },
  {
   "cell_type": "code",
   "execution_count": 28,
   "metadata": {},
   "outputs": [
    {
     "name": "stdout",
     "output_type": "stream",
     "text": [
      "['2', '2222', '22', 'deepak', 'khetwal222', '22222222']\n"
     ]
    },
    {
     "data": {
      "text/plain": [
       "1"
      ]
     },
     "execution_count": 28,
     "metadata": {},
     "output_type": "execute_result"
    }
   ],
   "source": [
    "l=[2,2222,22,'deepak','khetwal222',\"22222222\"]\n",
    "value=list(map(str,l))   # map take 2 argument,1 the value and 2 is the function jisko change karna hai.\n",
    "print(value)   # abhi sabh value string mai chnge ho gya hai\n",
    "\n"
   ]
  },
  {
   "cell_type": "code",
   "execution_count": 29,
   "metadata": {},
   "outputs": [
    {
     "data": {
      "text/plain": [
       "18"
      ]
     },
     "execution_count": 29,
     "metadata": {},
     "output_type": "execute_result"
    }
   ],
   "source": [
    "# i have converted it into string now,so now i can perform join operation on it\n",
    "\n",
    "val=''.join(value)   # join will check it,and perform the operation.blank spcae sey join karna hai,value list ko\n",
    "val.count('2')     # by using count method on string we can find the number of 2 in a list"
   ]
  },
  {
   "cell_type": "code",
   "execution_count": 23,
   "metadata": {},
   "outputs": [
    {
     "name": "stdout",
     "output_type": "stream",
     "text": [
      "deepakkhetwal\n"
     ]
    }
   ],
   "source": [
    "# 2 nd way by which we can perform the operation and check the number of 2 in a list\n",
    "nw=val.replace('2','')\n",
    "print(nw)"
   ]
  },
  {
   "cell_type": "code",
   "execution_count": 36,
   "metadata": {},
   "outputs": [
    {
     "name": "stdout",
     "output_type": "stream",
     "text": [
      "['222', '222', 'deepak222222', '222']\n"
     ]
    }
   ],
   "source": [
    "a=[222,222,'deepak222222','222']\n",
    "v=list(map(str,a))\n",
    "print(v)"
   ]
  },
  {
   "cell_type": "code",
   "execution_count": 39,
   "metadata": {},
   "outputs": [
    {
     "name": "stdout",
     "output_type": "stream",
     "text": [
      "222222deepak222222222\n"
     ]
    }
   ],
   "source": [
    "n=''.join(v)   # it mean blank space sey join kar v ok \n",
    "print(n)"
   ]
  },
  {
   "cell_type": "code",
   "execution_count": 40,
   "metadata": {},
   "outputs": [
    {
     "data": {
      "text/plain": [
       "15"
      ]
     },
     "execution_count": 40,
     "metadata": {},
     "output_type": "execute_result"
    }
   ],
   "source": [
    "n.count('2')"
   ]
  },
  {
   "cell_type": "code",
   "execution_count": 43,
   "metadata": {},
   "outputs": [
    {
     "name": "stdout",
     "output_type": "stream",
     "text": [
      "deepak\n"
     ]
    }
   ],
   "source": [
    "new=n.replace('2','')\n",
    "print(new)\n",
    "\n",
    "# join karne ke baad n replace karne ke bbad ho value aaya uska len minus previou len"
   ]
  },
  {
   "cell_type": "code",
   "execution_count": 52,
   "metadata": {},
   "outputs": [
    {
     "name": "stdout",
     "output_type": "stream",
     "text": [
      "(10, 20, 3040, 40, 50)\n",
      "present\n",
      "4\n"
     ]
    }
   ],
   "source": [
    "# function variable argument length\n",
    "\n",
    "def g(*a):\n",
    "    print(a)\n",
    "    for i in a:   # in this i mai pura list ek sath leyga ,jaise list of a pura leyga,and below wala example dekh leyna ki for mai kaise wah pure list ko leyta hai n kha takh uska range hota hao\n",
    "        if 50 in a:\n",
    "            print(\"present\")\n",
    "            print(a.index(50))   # it wil give the index in which this value is present\n",
    "            break\n",
    "        else:\n",
    "            print(\"not present\")\n",
    "            break\n",
    "g(10,20,3040,40,50)"
   ]
  },
  {
   "cell_type": "code",
   "execution_count": 61,
   "metadata": {},
   "outputs": [
    {
     "name": "stdout",
     "output_type": "stream",
     "text": [
      "[1, 2, 3, 4, 5, 6, 7, 8, 10] 1\n",
      "[1, 2, 3, 4, 5, 6, 7, 8, 10] 2\n",
      "[1, 2, 3, 4, 5, 6, 7, 8, 10] 3\n",
      "[1, 2, 3, 4, 5, 6, 7, 8, 10] 4\n",
      "[1, 2, 3, 4, 5, 6, 7, 8, 10] 5\n",
      "[1, 2, 3, 4, 5, 6, 7, 8, 10] 6\n",
      "[1, 2, 3, 4, 5, 6, 7, 8, 10] 7\n",
      "[1, 2, 3, 4, 5, 6, 7, 8, 10] 8\n",
      "[1, 2, 3, 4, 5, 6, 7, 8, 10] 9\n"
     ]
    }
   ],
   "source": [
    "#  >>>>>>>>>>>>>.. here i have check how the (in) is used . a ka pura list i mai deyga,and fir i mai ppura list ka value aa gya hia \n",
    "\n",
    "a=[1,2,3,4,5,6,7,8,10]\n",
    "count=1\n",
    "for i in a:   # esmai i mai pura list dey deyga,agar fir mai i mai kuch operation karta hu toh ,ek hi baar mai wah operation purey list mai hoga\n",
    "    # jaise maine upar waley mai kia hai, i mai pura list aa gya ,n check kia,ki us list mai apna ek paticular value hai ki nhi,agar hai tpoh yes and nhi hai toh n\n",
    "    print(a ,end=\" \")\n",
    "    print(count)\n",
    "    count=count+1"
   ]
  },
  {
   "cell_type": "code",
   "execution_count": 6,
   "metadata": {},
   "outputs": [
    {
     "name": "stdout",
     "output_type": "stream",
     "text": [
      "1\n",
      "2\n",
      "3\n",
      "4\n",
      "r\n"
     ]
    }
   ],
   "source": [
    "# but in i it will take one one value from a\n",
    "\n",
    "a=[1,2,3,4,'r']\n",
    "for i in a:\n",
    "    print(i)\n",
    "\n"
   ]
  },
  {
   "cell_type": "code",
   "execution_count": 72,
   "metadata": {},
   "outputs": [
    {
     "name": "stdout",
     "output_type": "stream",
     "text": [
      "{1, 2, 'deepak'}\n"
     ]
    }
   ],
   "source": [
    "x={1,2,'deepak',2}\n",
    "type(x)\n",
    "print(x)"
   ]
  },
  {
   "cell_type": "code",
   "execution_count": null,
   "metadata": {},
   "outputs": [],
   "source": [
    "#    >>>>>> Data type in python"
   ]
  },
  {
   "cell_type": "code",
   "execution_count": 74,
   "metadata": {},
   "outputs": [
    {
     "name": "stdout",
     "output_type": "stream",
     "text": [
      "frozenset({'cherry', 'apple', 'banana'})\n",
      "<class 'frozenset'>\n"
     ]
    }
   ],
   "source": [
    "#     Data type\n",
    "x = frozenset({\"apple\", \"banana\", \"cherry\"})   # by using frozenset the set value become immutable now\n",
    "print(x)\n",
    "print(type(x))"
   ]
  },
  {
   "cell_type": "code",
   "execution_count": 37,
   "metadata": {},
   "outputs": [
    {
     "name": "stdout",
     "output_type": "stream",
     "text": [
      "you want to play y for yes and q for quity\n",
      "enter the number :3\n",
      " the value enter by the used is 3the value of random num is: 5\n",
      "better luck next time\n",
      "you want to play y for yes and q for quity\n",
      "enter the number :2\n",
      " the value enter by the used is 2the value of random num is: 4\n",
      "better luck next time\n",
      "you want to play y for yes and q for quity\n",
      "enter the number :5\n",
      " the value enter by the used is 5the value of random num is: 3\n",
      "better luck next time\n",
      "you want to play y for yes and q for quity\n",
      "enter the number :6\n",
      " the value enter by the used is 6the value of random num is: 4\n",
      "better luck next time\n",
      "you want to play y for yes and q for quity\n",
      "enter the number :3\n",
      " the value enter by the used is 3the value of random num is: 5\n",
      "better luck next time\n",
      "you want to play y for yes and q for quity\n",
      "enter the number :4\n",
      " the value enter by the used is 4the value of random num is: 3\n",
      "better luck next time\n",
      "you want to play y for yes and q for quitq\n",
      " total correct is  0\n",
      " total incoorect guess is  6\n"
     ]
    }
   ],
   "source": [
    "# using random ,just checking and correct value check or not\n",
    "# importing random modules checking whether user can select right number of not, ,and at the end it will also display the totalnumber of correct and incorrect answer\n",
    "\n",
    "import random   # by using this we can print any randomnumber\n",
    "correct=0\n",
    "incorrect=0\n",
    "b=True\n",
    "while(b):   #here i took b ,so when user will press q ,for quit the else part will get print and in the else the b will become the false\n",
    "    b=input(\"you want to play y for yes and q for quit\")\n",
    "    if(b==\"y\"):\n",
    "        \n",
    "        check=random.randrange(1,6)\n",
    "        num=int(input(\"enter the number :\"))\n",
    "        print(f\" the value enter by the used is {num}the value of random num is: {check}\")\n",
    "        if num==check:\n",
    "            print(\"u have chhose a coorect number\")\n",
    "            correct=correct+1\n",
    "        else:\n",
    "            print(\"better luck next time\")\n",
    "            incorrect=incorrect+1   # counting part to check how many time do the error and prbl occur\n",
    "    else:\n",
    "        print(\" total correct is \" ,+correct)\n",
    "        print(\" total incoorect guess is \" , +incorrect)\n",
    "        b=False    # by giving this i can perform limites operation\n"
   ]
  },
  {
   "cell_type": "code",
   "execution_count": 8,
   "metadata": {},
   "outputs": [
    {
     "name": "stdout",
     "output_type": "stream",
     "text": [
      "yes present at index number 6\n"
     ]
    }
   ],
   "source": [
    "# it will check whether value present or not,and at which index number does the value is present \n",
    "\n",
    "a=[1,2,3,4,5,6,'deepak']\n",
    "if 'deepak' in a:\n",
    "    value=a.index('deepak')\n",
    "    print(f\"yes present at index number {value}\")\n",
    "else:\n",
    "    print(\"not present\")"
   ]
  },
  {
   "cell_type": "code",
   "execution_count": null,
   "metadata": {},
   "outputs": [],
   "source": [
    "#    >>>>>>>>>>>>>>>. String concept  <<<<<<<<<<<<<<<<<<<<<<<<<<<<<<<<<<<"
   ]
  },
  {
   "cell_type": "code",
   "execution_count": 18,
   "metadata": {},
   "outputs": [
    {
     "data": {
      "text/plain": [
       "7"
      ]
     },
     "execution_count": 18,
     "metadata": {},
     "output_type": "execute_result"
    }
   ],
   "source": [
    "a=\"de23554r5455455\"\n",
    "count=0\n",
    "# simple method  : a.count('5')\n",
    "'''\n",
    "for i in a:\n",
    "    if i=='5':  # this is a method by which u can count how many 5 are present in a string\n",
    "        count=count+1\n",
    "    \n",
    "print(count)\n",
    "'''\n",
    "a.count('5')  # in the string also we can check the number of value using count method"
   ]
  },
  {
   "cell_type": "code",
   "execution_count": 21,
   "metadata": {},
   "outputs": [
    {
     "data": {
      "text/plain": [
       "' deepak khetwal  '"
      ]
     },
     "execution_count": 21,
     "metadata": {},
     "output_type": "execute_result"
    }
   ],
   "source": [
    "# strip() it is used to remove the white space from beginning and from the end\n",
    "s=\" deepak khetwal  \"\n",
    "s  # without strip"
   ]
  },
  {
   "cell_type": "code",
   "execution_count": 23,
   "metadata": {},
   "outputs": [
    {
     "data": {
      "text/plain": [
       "'deepak khetwal'"
      ]
     },
     "execution_count": 23,
     "metadata": {},
     "output_type": "execute_result"
    }
   ],
   "source": [
    "# using strip the starting and the ending whitespace wil be remove from the string\n",
    "s.strip()  # chek the output\n"
   ]
  },
  {
   "cell_type": "code",
   "execution_count": 28,
   "metadata": {},
   "outputs": [
    {
     "name": "stdout",
     "output_type": "stream",
     "text": [
      "[' depeak is ', ' a good ', 'boyy ', 'plz contanct him', 'for a projec']\n"
     ]
    },
    {
     "data": {
      "text/plain": [
       "list"
      ]
     },
     "execution_count": 28,
     "metadata": {},
     "output_type": "execute_result"
    }
   ],
   "source": [
    "# >>>>>>>>>.> The split() method splits the string into substrings if it finds instances of the separator:  <<<<<<<<<<<<<<\n",
    "\n",
    "# split will divide it into paticular part after the condition is given  , agar condition mai split by a paticular chiz dia hoga so,us chiz sey value ko split kia jayega\n",
    "\n",
    "# split converrt the string it into list,\n",
    "value=\" depeak is , a good ,boyy ,plz contanct him,for a projec\"\n",
    "newValue=value.split(',')    # mean value naam ke string ko split kar jidhar v , aaya hai ussey\n",
    "\n",
    "print(newValue)    # now the new list i have got it is separated string by ,\n",
    "type(newValue)   # as i told we got a list of value now"
   ]
  },
  {
   "cell_type": "code",
   "execution_count": 36,
   "metadata": {},
   "outputs": [
    {
     "name": "stdout",
     "output_type": "stream",
     "text": [
      "True\n"
     ]
    }
   ],
   "source": [
    "# simply check wheterh paticluar value is present in a strinf or not\n",
    "\n",
    "# it  is check by using in and not in\n",
    "\n",
    "a=\"ram is a good boy\"\n",
    "va=\"good\" in a\n",
    "print(va)    # if present it will give you true, is not than false"
   ]
  },
  {
   "cell_type": "code",
   "execution_count": null,
   "metadata": {},
   "outputs": [],
   "source": []
  }
 ],
 "metadata": {
  "kernelspec": {
   "display_name": "Python 3",
   "language": "python",
   "name": "python3"
  },
  "language_info": {
   "codemirror_mode": {
    "name": "ipython",
    "version": 3
   },
   "file_extension": ".py",
   "mimetype": "text/x-python",
   "name": "python",
   "nbconvert_exporter": "python",
   "pygments_lexer": "ipython3",
   "version": "3.8.5"
  }
 },
 "nbformat": 4,
 "nbformat_minor": 4
}
