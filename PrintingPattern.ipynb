{
 "cells": [
  {
   "cell_type": "code",
   "execution_count": 15,
   "metadata": {},
   "outputs": [
    {
     "name": "stdout",
     "output_type": "stream",
     "text": [
      "                    \n",
      "0 1                 \n",
      "0 2 2 3             \n",
      "0 2 4 3 4 5         \n",
      "0 2 4 6 4 5 6 7     \n",
      "0 2 4 6 8 5 6 7 8 9 \n"
     ]
    }
   ],
   "source": [
    "for i in range(6):\n",
    "    count=0\n",
    "    p=i #initilizing the value of p=i because nichey mai usko decrement kartey rahunga,baad mai i =0 hojayega\n",
    "    for j in range(10):\n",
    "        if(i==0): # it is because the first row we want blank\n",
    "            print(\" \",end=\" \")\n",
    "        elif(j<i): #in this it will check the ()\n",
    "            print(count,end=\" \")\n",
    "            count=count+2\n",
    "        elif(j>=p and p!=0): # here the value of p=i,and which i will decrease to get the result and which is also not equal to 0\n",
    "            print(j,end=\" \")\n",
    "            p=p-1\n",
    "        else:\n",
    "            print(\" \",end=\" \")\n",
    "    print()"
   ]
  },
  {
   "cell_type": "code",
   "execution_count": null,
   "metadata": {},
   "outputs": [],
   "source": []
  }
 ],
 "metadata": {
  "kernelspec": {
   "display_name": "Python 3",
   "language": "python",
   "name": "python3"
  },
  "language_info": {
   "codemirror_mode": {
    "name": "ipython",
    "version": 3
   },
   "file_extension": ".py",
   "mimetype": "text/x-python",
   "name": "python",
   "nbconvert_exporter": "python",
   "pygments_lexer": "ipython3",
   "version": "3.8.5"
  }
 },
 "nbformat": 4,
 "nbformat_minor": 4
}
