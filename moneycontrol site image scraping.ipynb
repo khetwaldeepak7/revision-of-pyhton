{
 "cells": [
  {
   "cell_type": "code",
   "execution_count": 5,
   "metadata": {},
   "outputs": [],
   "source": [
    "import requests\n",
    "import re\n",
    "import pandas\n",
    "headers={'User-Agent':'Mozilla/5.0 (Windows NT 10.0; Win64; x64) AppleWebKit/537.36 (KHTML, like Gecko) Chrome/85.0.4183.102 Safari/537.36'}\n",
    "r=requests.get(\"https://www.moneycontrol.com/news/\",headers=headers).text"
   ]
  },
  {
   "cell_type": "code",
   "execution_count": 7,
   "metadata": {},
   "outputs": [],
   "source": [
    "#print(r)"
   ]
  },
  {
   "cell_type": "code",
   "execution_count": 18,
   "metadata": {},
   "outputs": [],
   "source": [
    "for image in r.split(\"class=\\\"ex-imgblock\\\">\")[1:]:\n",
    "    imageurl=re.findall('data-src=\"(.*?)\"',image)  # find all mai pura url aa gya image ka in the form of list, abh ek ek karke usko loop mai lenge\n",
    "    "
   ]
  },
  {
   "cell_type": "code",
   "execution_count": 25,
   "metadata": {},
   "outputs": [],
   "source": [
    "count=0\n",
    "for img in imageurl:\n",
    "    count=count+1\n",
    "    # request.get sey url of image ko hit karenge and baad mai usko .content sey convert karenge\n",
    "    pic=requests.get(img).content  # for images we used content\n",
    "    # when we used with in the file handling that time the used of close statment is not required bec it is done automatically\n",
    "    with open(fr'C:\\Users\\deepak.khetwal\\python\\image\\abc{count}.png','wb') as f:  # storing image in a file,b is used for the binary reading purpose\n",
    "        f.write(pic)"
   ]
  }
 ],
 "metadata": {
  "kernelspec": {
   "display_name": "Python 3",
   "language": "python",
   "name": "python3"
  },
  "language_info": {
   "codemirror_mode": {
    "name": "ipython",
    "version": 3
   },
   "file_extension": ".py",
   "mimetype": "text/x-python",
   "name": "python",
   "nbconvert_exporter": "python",
   "pygments_lexer": "ipython3",
   "version": "3.8.5"
  }
 },
 "nbformat": 4,
 "nbformat_minor": 4
}
