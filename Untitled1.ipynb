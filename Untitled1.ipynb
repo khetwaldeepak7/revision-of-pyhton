{
 "cells": [
  {
   "cell_type": "code",
   "execution_count": 5,
   "metadata": {},
   "outputs": [
    {
     "name": "stdout",
     "output_type": "stream",
     "text": [
      "8\n",
      "yes present deepak\n",
      "yes present khetwal\n"
     ]
    }
   ],
   "source": [
    "a=[1,2,3,4,5,6,'deepak','khetwal']\n",
    "print(len(a))\n",
    "\n",
    "for i in a:\n",
    "    if(i=='deepak' or i=='khetwal'):\n",
    "        print(f\"yes  {i}  present \")\n",
    "    else:\n",
    "        continue"
   ]
  },
  {
   "cell_type": "code",
   "execution_count": null,
   "metadata": {},
   "outputs": [],
   "source": []
  }
 ],
 "metadata": {
  "kernelspec": {
   "display_name": "Python 3",
   "language": "python",
   "name": "python3"
  },
  "language_info": {
   "codemirror_mode": {
    "name": "ipython",
    "version": 3
   },
   "file_extension": ".py",
   "mimetype": "text/x-python",
   "name": "python",
   "nbconvert_exporter": "python",
   "pygments_lexer": "ipython3",
   "version": "3.8.5"
  }
 },
 "nbformat": 4,
 "nbformat_minor": 4
}
