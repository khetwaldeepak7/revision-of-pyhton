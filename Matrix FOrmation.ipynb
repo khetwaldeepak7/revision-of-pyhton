{
 "cells": [
  {
   "cell_type": "code",
   "execution_count": 4,
   "metadata": {},
   "outputs": [
    {
     "name": "stdout",
     "output_type": "stream",
     "text": [
      "enter the number of rows2\n",
      "enter the number of column3\n",
      "mat[0][0]1\n",
      "mat[0][1]2\n",
      "mat[0][2]3\n",
      "mat[1][0]4\n",
      "mat[1][1]5\n",
      "mat[1][2]6\n",
      "[[1, 2, 3], [4, 5, 6]]\n",
      "mat[0][0]1\n",
      "mat[0][1]2\n",
      "mat[0][2]3\n",
      "mat[1][0]2\n",
      "mat[1][1]3\n",
      "mat[1][2]4\n"
     ]
    }
   ],
   "source": [
    "m=int(input(\"enter the number of rows\"))\n",
    "n=int(input(\"enter the number of column\"))\n",
    "\n",
    "def matrix(m,n):\n",
    "    mat=[]\n",
    "    for i in range(m):\n",
    "        row=[]\n",
    "        for j in range(n):\n",
    "            value=int(input(f\"mat[{i}][{j}]\"))\n",
    "            row.append(value) # bar bar row mai value add hotey rahyega,\n",
    "        mat.append(row)  # us row ko append kar dia\n",
    "    return mat\n",
    "\n",
    "\n",
    "A=matrix(m,n)\n",
    "print(A)\n",
    "B=matrix(m,n)\n",
    "print(B)"
   ]
  },
  {
   "cell_type": "code",
   "execution_count": 2,
   "metadata": {},
   "outputs": [
    {
     "name": "stdout",
     "output_type": "stream",
     "text": [
      "enter how many rows u want :2\n",
      "enter how many column u want :2\n",
      "the value of matrix[0,0]12\n",
      "the value of matrix[0,1]2\n",
      "the value of matrix[1,0]10\n",
      "the value of matrix[1,1]1\n",
      "[[12, 2], [10, 1]]\n"
     ]
    }
   ],
   "source": [
    "rows=int(input(\"enter how many rows u want :\"))\n",
    "column=int(input(\"enter how many column u want :\"))\n",
    "matrix=[]\n",
    "for i in range(rows):\n",
    "    val=[]\n",
    "    for j in range(column):\n",
    "        value=int(input(f\"the value of matrix[{i},{j}]\"))\n",
    "        val.append(value)\n",
    "    matrix.append(val)\n",
    "print(matrix)\n"
   ]
  },
  {
   "cell_type": "markdown",
   "metadata": {},
   "source": [
    "##### "
   ]
  },
  {
   "cell_type": "code",
   "execution_count": 6,
   "metadata": {},
   "outputs": [],
   "source": [
    "from numpy import *\n",
    "A=[\n",
    "    [1, 2, 4],\n",
    "    [2,3,4]]\n",
    "B=[\n",
    "    [2 ,3],\n",
    "    [1,2],\n",
    "    [3,4]\n",
    "]"
   ]
  },
  {
   "cell_type": "code",
   "execution_count": 21,
   "metadata": {},
   "outputs": [
    {
     "name": "stdout",
     "output_type": "stream",
     "text": [
      "[16, 23, 0]\n",
      "[19, 28, 0]\n"
     ]
    }
   ],
   "source": [
    "a=[\n",
    "    [0,0,0],\n",
    "    [0,0,0]\n",
    "]\n",
    "for i in range(len(A)):\n",
    "    for j in range(len(B[0])):  # this is main\n",
    "        for k in range(len(B)):\n",
    "            a[i][j]+=A[i][k]*B[k][j]\n",
    "for result in a:\n",
    "    print(result)"
   ]
  },
  {
   "cell_type": "code",
   "execution_count": 20,
   "metadata": {},
   "outputs": [
    {
     "name": "stdout",
     "output_type": "stream",
     "text": [
      "[114, 160, 60, 27]\n",
      "[74, 97, 73, 14]\n",
      "[119, 157, 112, 23]\n"
     ]
    }
   ],
   "source": [
    "# Program to multiply two matrices using nested loops\n",
    "\n",
    "# 3x3 matrix\n",
    "X = [[12,7,3],\n",
    "    [4 ,5,6],\n",
    "    [7 ,8,9]]\n",
    "# 3x4 matrix\n",
    "Y = [[5,8,1,2],\n",
    "    [6,7,3,0],\n",
    "    [4,5,9,1]]\n",
    "# result is 3x4\n",
    "result = [[0,0,0,0],\n",
    "         [0,0,0,0],\n",
    "         [0,0,0,0]]\n",
    "for i in range(len(X)):\n",
    "    for j in range(len(Y[0])):  # this is main\n",
    "        for k in range(len(Y)):\n",
    "            result[i][j]+=X[i][k]*Y[k][j]\n",
    "for r in result:\n",
    "    print(r)"
   ]
  },
  {
   "cell_type": "code",
   "execution_count": 22,
   "metadata": {},
   "outputs": [
    {
     "name": "stdout",
     "output_type": "stream",
     "text": [
      "[[1, 2, 3, 4], [3, 4, 5, 6]]\n"
     ]
    },
    {
     "data": {
      "text/plain": [
       "list"
      ]
     },
     "execution_count": 22,
     "metadata": {},
     "output_type": "execute_result"
    }
   ],
   "source": [
    "a=[\n",
    "    [1,2,3,4],\n",
    "    [3,4,5,6]\n",
    "]\n",
    "print(a)\n",
    "\n",
    "type(a)"
   ]
  },
  {
   "cell_type": "code",
   "execution_count": 23,
   "metadata": {},
   "outputs": [
    {
     "name": "stdout",
     "output_type": "stream",
     "text": [
      "[[1 2 3 4]\n",
      " [3 4 5 6]]\n"
     ]
    },
    {
     "data": {
      "text/plain": [
       "numpy.matrix"
      ]
     },
     "execution_count": 23,
     "metadata": {},
     "output_type": "execute_result"
    }
   ],
   "source": [
    "from numpy import *\n",
    "ma=matrix(a)   # this is how we convert list to numpy\n",
    "print(ma)\n",
    "type(ma)"
   ]
  },
  {
   "cell_type": "code",
   "execution_count": 1,
   "metadata": {},
   "outputs": [
    {
     "name": "stdout",
     "output_type": "stream",
     "text": [
      "[[1 2 3]\n",
      " [4 5 6]]\n"
     ]
    }
   ],
   "source": [
    "from numpy import *\n",
    "ab=matrix('1,2,3;4,5,6')  # formatig matrix\n",
    "print(ab) "
   ]
  },
  {
   "cell_type": "code",
   "execution_count": 1,
   "metadata": {},
   "outputs": [
    {
     "name": "stdout",
     "output_type": "stream",
     "text": [
      "2\n",
      "2\n",
      "the value enter in the matrix are[0,0]2\n",
      "the value enter in the matrix are[0,1]1\n",
      "the value enter in the matrix are[1,0]2\n",
      "the value enter in the matrix are[1,1]3\n",
      "[2, 1]\n",
      "[2, 3]\n"
     ]
    }
   ],
   "source": [
    "# this is how we create the matrix off number\n",
    "n=int(input())\n",
    "m=int(input())\n",
    "mtrix=[]\n",
    "for i in range(n):\n",
    "    child=[]\n",
    "    for j in range(m):\n",
    "        value=int(input(f\"the value enter in the matrix are[{i},{j}]\"))  # that value you have to instake in the list\n",
    "        child.append(value)\n",
    "    mtrix.append(child)\n",
    "for j in mtrix:\n",
    "    print(j)"
   ]
  },
  {
   "cell_type": "code",
   "execution_count": 1,
   "metadata": {},
   "outputs": [
    {
     "name": "stdout",
     "output_type": "stream",
     "text": [
      "the matrix vakue of 0,0 is :1\n",
      "the matrix vakue of 0,1 is :2\n",
      "the matrix vakue of 0,2 is :3\n",
      "the matrix vakue of 1,0 is :4\n",
      "the matrix vakue of 1,1 is :5\n",
      "the matrix vakue of 1,2 is :6\n",
      "the matrix vakue of 2,0 is :12\n",
      "the matrix vakue of 2,1 is :13\n",
      "the matrix vakue of 2,2 is :14\n",
      "[[1, 2, 3], [4, 5, 6], [12, 13, 14]]\n"
     ]
    }
   ],
   "source": [
    "# making  3*3 matrix,3 rows,and 3 column\n",
    "parent=[]\n",
    "for i in range(3):\n",
    "    child=[]  # this is very compulsory,ek ek karke pehle child waley array mai append karenge,and baad mai uske parent mai add karenge\n",
    "    for j in range(3):\n",
    "        value=int(input(f\"the matrix vakue of {i},{j} is :\"))\n",
    "        child.append(value)\n",
    "    parent.append(child)\n",
    "print(parent)"
   ]
  },
  {
   "cell_type": "code",
   "execution_count": 5,
   "metadata": {},
   "outputs": [
    {
     "name": "stdout",
     "output_type": "stream",
     "text": [
      "[1, 2, 3]\n",
      "[4, 5, 6]\n",
      "[12, 13, 14]\n"
     ]
    }
   ],
   "source": [
    "for i in parent:\n",
    "    print(i)"
   ]
  },
  {
   "cell_type": "code",
   "execution_count": 3,
   "metadata": {},
   "outputs": [
    {
     "name": "stdout",
     "output_type": "stream",
     "text": [
      "enter the number of rows2\n",
      "enter the number of column3\n",
      "enter the value of matrix [0,0] 12\n",
      "enter the value of matrix [0,1] 1\n",
      "enter the value of matrix [0,2] 2\n",
      "enter the value of matrix [1,0] 2\n",
      "enter the value of matrix [1,1] 3\n",
      "enter the value of matrix [1,2] 2\n"
     ]
    }
   ],
   "source": [
    "n=int(input(\"enter the number of rows\"))\n",
    "m=int(input(\"enter the number of column\"))\n",
    "mat=[]\n",
    "for i in range(n):\n",
    "    small=[]\n",
    "    for j in range(m):\n",
    "        value=int(input(f\"enter the value of matrix [{i},{j}] \"))\n",
    "        small.append(value)\n",
    "    mat.append(small)"
   ]
  },
  {
   "cell_type": "code",
   "execution_count": 4,
   "metadata": {},
   "outputs": [
    {
     "name": "stdout",
     "output_type": "stream",
     "text": [
      "[[12, 1, 2], [2, 3, 2]]\n"
     ]
    }
   ],
   "source": [
    "print(mat)"
   ]
  },
  {
   "cell_type": "code",
   "execution_count": null,
   "metadata": {},
   "outputs": [],
   "source": []
  }
 ],
 "metadata": {
  "kernelspec": {
   "display_name": "Python 3",
   "language": "python",
   "name": "python3"
  },
  "language_info": {
   "codemirror_mode": {
    "name": "ipython",
    "version": 3
   },
   "file_extension": ".py",
   "mimetype": "text/x-python",
   "name": "python",
   "nbconvert_exporter": "python",
   "pygments_lexer": "ipython3",
   "version": "3.8.5"
  }
 },
 "nbformat": 4,
 "nbformat_minor": 4
}
