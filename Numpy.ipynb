{
 "cells": [
  {
   "cell_type": "code",
   "execution_count": 20,
   "metadata": {},
   "outputs": [
    {
     "name": "stdout",
     "output_type": "stream",
     "text": [
      "deepak\n"
     ]
    }
   ],
   "source": [
    "# some basics example of dictionary\n",
    "# : colon ke left wala keys and uske baad wala uski values\n",
    "# comma is used to seprate the values\n",
    "a={1:{'name':'deepak','age':23},2:{'surname':'khetwal'}}  # : ke baad wala colon ke pehle wala ke value hota hai\n",
    "print(a[1]['name'])\n",
    "# >>>>>>>>>>>>>>>>>>>>>>>>>>>>>>>>>>>>>>>>>>"
   ]
  },
  {
   "cell_type": "code",
   "execution_count": 41,
   "metadata": {},
   "outputs": [
    {
     "name": "stdout",
     "output_type": "stream",
     "text": [
      "value\n"
     ]
    }
   ],
   "source": [
    "#   >>>>>>    this is the example of nested dictionary <<<<<<<<<<<<<<<<<<<<<<<<<<<<<<<<<\n",
    "a={1:'deepak',2:\"khetwal\",3:{\"name\":\"value\"}}\n",
    "print(a[3]['name'])"
   ]
  },
  {
   "cell_type": "code",
   "execution_count": 33,
   "metadata": {},
   "outputs": [
    {
     "name": "stdout",
     "output_type": "stream",
     "text": [
      "[1 2 4 5]\n",
      "[1 2 4 5]\n",
      "[1 2 4 5]\n",
      "[  1   2 100   5]\n"
     ]
    }
   ],
   "source": [
    "from numpy import *\n",
    "a=array([1,2,4,5])\n",
    "print(a)\n",
    "b=a.copy()  # it is know as a deep copy,in this one is not dependt on another .\n",
    "# b=a.view()    # it is knows as a shallow copy,this is dependent\n",
    "print(b)\n",
    "b[2]=100\n",
    "print(a)\n",
    "print(b)"
   ]
  },
  {
   "cell_type": "code",
   "execution_count": 51,
   "metadata": {},
   "outputs": [
    {
     "name": "stdout",
     "output_type": "stream",
     "text": [
      "[[1 2 3]\n",
      " [4 5 6]]\n"
     ]
    }
   ],
   "source": [
    "from numpy import *\n",
    "\n",
    "a=array([\n",
    "    [1,2,3],\n",
    "    [4,5,6]\n",
    "])\n",
    "print(a)"
   ]
  },
  {
   "cell_type": "code",
   "execution_count": 55,
   "metadata": {},
   "outputs": [
    {
     "name": "stdout",
     "output_type": "stream",
     "text": [
      "[1 2]\n"
     ]
    }
   ],
   "source": [
    "print(a[0][0:2])  # it mean a is a array [0] jiska 0 dimention ka value [0 sey 2 takh ] ka leyna hai\n"
   ]
  },
  {
   "cell_type": "code",
   "execution_count": 63,
   "metadata": {},
   "outputs": [
    {
     "name": "stdout",
     "output_type": "stream",
     "text": [
      "[1 2 3 4 5 6]\n",
      "[[1 2]\n",
      " [3 4]\n",
      " [5 6]]\n"
     ]
    }
   ],
   "source": [
    "b=a.flatten()   # flatten is used to flat the array\n",
    "print(b)\n",
    "k=b.reshape(3,2)  # by making reshape we can make it array type\n",
    "# first rows and 2 second column\n",
    "print(k)"
   ]
  },
  {
   "cell_type": "code",
   "execution_count": 64,
   "metadata": {},
   "outputs": [
    {
     "data": {
      "text/plain": [
       "0"
      ]
     },
     "execution_count": 64,
     "metadata": {},
     "output_type": "execute_result"
    }
   ],
   "source": [
    "import numpy\n",
    "zero=numpy.array(10)  # it is a zero dimentional array\n",
    "zero.ndim"
   ]
  },
  {
   "cell_type": "code",
   "execution_count": null,
   "metadata": {},
   "outputs": [],
   "source": [
    "\n"
   ]
  },
  {
   "cell_type": "code",
   "execution_count": 2,
   "metadata": {},
   "outputs": [
    {
     "name": "stdout",
     "output_type": "stream",
     "text": [
      "[[[12  3  4]\n",
      "  [23  4  5]]\n",
      "\n",
      " [[20 30 40]\n",
      "  [50 50 20]]]\n"
     ]
    },
    {
     "data": {
      "text/plain": [
       "array([50, 50, 20])"
      ]
     },
     "execution_count": 2,
     "metadata": {},
     "output_type": "execute_result"
    }
   ],
   "source": [
    "#  3 d array   : 3 d array is combo of 2D array 2d array\n",
    "# in this all element must be present must be equals\n",
    "from numpy import *\n",
    "third=array([\n",
    "    [[12,3,4],\n",
    "        [23,4,5]],    \n",
    "    [ [20,30,40],\n",
    "        [50,50,20]]\n",
    "])\n",
    "\n",
    "print(third)\n",
    "third.ndim\n",
    "third[1,1,0:3]  # first 1 dimention ka 1 dimentionselect karke uska 0 sey 3 index takh kk=i values"
   ]
  },
  {
   "cell_type": "code",
   "execution_count": 80,
   "metadata": {},
   "outputs": [
    {
     "name": "stdout",
     "output_type": "stream",
     "text": [
      "[[23 43  5]\n",
      " [10 20  3]]\n"
     ]
    },
    {
     "data": {
      "text/plain": [
       "2"
      ]
     },
     "execution_count": 80,
     "metadata": {},
     "output_type": "execute_result"
    }
   ],
   "source": [
    "#   2 d array\n",
    "from numpy import *\n",
    "arr=array([\n",
    "    [23,43,5],[10,20,3]])\n",
    "print(arr)\n",
    "arr.ndim"
   ]
  },
  {
   "cell_type": "code",
   "execution_count": 85,
   "metadata": {},
   "outputs": [
    {
     "data": {
      "text/plain": [
       "array([[23, 43],\n",
       "       [10, 20]])"
      ]
     },
     "execution_count": 85,
     "metadata": {},
     "output_type": "execute_result"
    }
   ],
   "source": [
    "# slicing in 2d array\n",
    "arr[0:2,0:2]  #  mean 0  sey leykar 1 dimentional ka , 0 sey leyker 1 index value deyna\n"
   ]
  },
  {
   "cell_type": "code",
   "execution_count": 2,
   "metadata": {},
   "outputs": [
    {
     "data": {
      "text/plain": [
       "3"
      ]
     },
     "execution_count": 2,
     "metadata": {},
     "output_type": "execute_result"
    }
   ],
   "source": [
    "from numpy import *\n",
    "value=array([\n",
    "    [\n",
    "        [10,20,30],\n",
    "        [40,50,60]\n",
    "    ],\n",
    "    [\n",
    "        [40,50,70],\n",
    "        [100,101,102]\n",
    "    ]\n",
    "])\n",
    "value.ndim"
   ]
  },
  {
   "cell_type": "code",
   "execution_count": 5,
   "metadata": {},
   "outputs": [
    {
     "data": {
      "text/plain": [
       "array([[10, 20, 30],\n",
       "       [40, 50, 60]])"
      ]
     },
     "execution_count": 5,
     "metadata": {},
     "output_type": "execute_result"
    }
   ],
   "source": [
    "value[0,0:2]  # as i have mentioned the 0 dimention element,fir 0 sey 2 takh ka dimention"
   ]
  },
  {
   "cell_type": "code",
   "execution_count": null,
   "metadata": {},
   "outputs": [],
   "source": []
  }
 ],
 "metadata": {
  "kernelspec": {
   "display_name": "Python 3",
   "language": "python",
   "name": "python3"
  },
  "language_info": {
   "codemirror_mode": {
    "name": "ipython",
    "version": 3
   },
   "file_extension": ".py",
   "mimetype": "text/x-python",
   "name": "python",
   "nbconvert_exporter": "python",
   "pygments_lexer": "ipython3",
   "version": "3.8.5"
  }
 },
 "nbformat": 4,
 "nbformat_minor": 4
}
