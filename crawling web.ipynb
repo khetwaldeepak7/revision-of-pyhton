{
 "cells": [
  {
   "cell_type": "code",
   "execution_count": 2,
   "metadata": {},
   "outputs": [],
   "source": [
    "import requests  # it is module to hit the url\n",
    "import re   # regex for regulation expression\n",
    "# headers is used when any site does not give permission to hit\n",
    "headers={'User-Agent':'Mozilla/5.0 (Windows NT 10.0; Win64; x64) AppleWebKit/537.36 (KHTML, like Gecko) Chrome/85.0.4183.83 Safari/537.36'}   # header is used when any site does not give permission at that time we used this\n",
    "r=requests.get(\"https://zeenews.india.com/uttar-pradesh/taj-mahal-and-agra-fort-to-reopen-from-september-21-for-visitors-2308218.html\",headers=headers).text\n",
    "# r is a variable where i have stored all the information after hitting the url\n",
    "headline=re.search('<title>(.*?)\\|',r).group(1)     # for special symbol | for this used \\n backslash"
   ]
  },
  {
   "cell_type": "code",
   "execution_count": 3,
   "metadata": {},
   "outputs": [
    {
     "name": "stdout",
     "output_type": "stream",
     "text": [
      "Taj Mahal and Agra Fort to reopen from September 21 for visitors \n"
     ]
    }
   ],
   "source": [
    "print(headline)"
   ]
  },
  {
   "cell_type": "code",
   "execution_count": 4,
   "metadata": {},
   "outputs": [],
   "source": [
    "image=re.search('<meta property=\"og:image\" content=\"(.*?)\"',r).group(1)   # by this i will get the url of the image"
   ]
  },
  {
   "cell_type": "code",
   "execution_count": 15,
   "metadata": {},
   "outputs": [
    {
     "name": "stdout",
     "output_type": "stream",
     "text": [
      "https://english.cdn.zeenews.com/sites/default/files/2020/09/07/884178-taj-mahal-970.jpg\n"
     ]
    }
   ],
   "source": [
    "print(image)     # url of the image\n",
    "\n",
    "hittingurl=requests.get('https://english.cdn.zeenews.com/sites/default/files/2020/09/07/884178-taj-mahal-970.jpg').content\n",
    "f=open(r'C:\\Users\\deepak.khetwal\\Pictures\\Camera Roll\\image.png','wb')  # store in a directory\n",
    "f.write(hittingurl)\n",
    "f.close()"
   ]
  },
  {
   "cell_type": "code",
   "execution_count": 33,
   "metadata": {},
   "outputs": [],
   "source": [
    "#to get the picture of image\n",
    "#picture=re.search()"
   ]
  },
  {
   "cell_type": "code",
   "execution_count": 23,
   "metadata": {},
   "outputs": [],
   "source": [
    "# date and author name\n",
    "author=re.search('<div class=\"vm\"><a href=\"/author/ananya-das\">(.*?)</a><br></div>',r).group(1)\n",
    "date=re.search('<div class=\"write-block margin-bt20px\">(.*?)</div>',r).group(1)"
   ]
  },
  {
   "cell_type": "code",
   "execution_count": 24,
   "metadata": {},
   "outputs": [
    {
     "name": "stdout",
     "output_type": "stream",
     "text": [
      "Sep 07, 2020, 20:13 PM IST\n",
      "Ananya Das\n"
     ]
    }
   ],
   "source": [
    "print(date)   # date \n",
    "print(author)   # author"
   ]
  },
  {
   "cell_type": "code",
   "execution_count": 20,
   "metadata": {},
   "outputs": [],
   "source": [
    "content=re.search('<div class=\"article\" id=\"star2308218\">(.*?)<div class=\"tag-block margin-bt40px\">',r,re.S).group(1)\n",
    "\n",
    "\n",
    "#  ------> subsituting unwanted tags   <<<<<<<<<<<<<<<<<<<<<<<<<<<<<<<<<<<\n",
    "\n",
    "content=re.sub('<.*?>','',content, flags=re.S)  # to remove the unwanted tags\n",
    "# re.sub('towhom','how',variable,flags=re.s)  # flags=re.s is compulsory\n",
    "\n",
    "content=re.sub('^\\s*$','',content,flags=re.S)\n",
    "\n",
    "\n",
    "# another method in the string, knowns as strip which will remove the starting and ending space\n",
    "content_removingspace=content.strip()  # strip is a method of the string which will remove the unwanted starting and ending space "
   ]
  },
  {
   "cell_type": "code",
   "execution_count": 22,
   "metadata": {},
   "outputs": [
    {
     "name": "stdout",
     "output_type": "stream",
     "text": [
      "The Taj Mahal and the Agra Fort will be reopened for visitors from September 21, the Archaeological Survey of India (ASI) Agra circle announced on Monday. The two world heritage monuments were closed since March 17 due to the coronavirus COVID-19 pandemic.\n",
      "The Agra District Magistrate on August 20 had decided to reopen all the historical monuments except the Taj Mahal and Red Fort (Lal Quila) from September 1, after reviewing its earlier order.\n",
      "The order to this effect was issued from the District Magistrate office stating that these historical monuments, which were kept in the buffer zone, will be re-opened for the public as per their earlier schedule.\n",
      "While visiting these places, tourists and common people have been advised to follow social distancing and wear masks.\n"
     ]
    }
   ],
   "source": [
    "print(content_removingspace)"
   ]
  },
  {
   "cell_type": "code",
   "execution_count": null,
   "metadata": {},
   "outputs": [],
   "source": []
  }
 ],
 "metadata": {
  "kernelspec": {
   "display_name": "Python 3",
   "language": "python",
   "name": "python3"
  },
  "language_info": {
   "codemirror_mode": {
    "name": "ipython",
    "version": 3
   },
   "file_extension": ".py",
   "mimetype": "text/x-python",
   "name": "python",
   "nbconvert_exporter": "python",
   "pygments_lexer": "ipython3",
   "version": "3.8.5"
  }
 },
 "nbformat": 4,
 "nbformat_minor": 4
}
